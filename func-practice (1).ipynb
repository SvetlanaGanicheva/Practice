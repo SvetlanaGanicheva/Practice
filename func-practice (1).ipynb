{
 "cells": [
  {
   "cell_type": "code",
   "execution_count": null,
   "metadata": {},
   "outputs": [],
   "source": []
  },
  {
   "cell_type": "markdown",
   "metadata": {
    "colab_type": "text",
    "id": "ylixGHVOvAqB"
   },
   "source": [
    "## Classwork\n",
    "\n",
    "*Сделайте одну задачу на выбор. Выполнение больше одной приветствуется*"
   ]
  },
  {
   "cell_type": "markdown",
   "metadata": {
    "colab_type": "text",
    "id": "WbpgWXdHvgV8"
   },
   "source": [
    "**Задача 1.**  Напишите генератор названий компаний (почти как генератор паролей). \n",
    "Пусть в названии компании будет 6 частей, рандомно выбирающихся из списка names.\n",
    "\n",
    "Сделайте это функцией"
   ]
  },
  {
   "cell_type": "code",
   "execution_count": 100,
   "metadata": {
    "colab": {
     "base_uri": "https://localhost:8080/",
     "height": 34
    },
    "colab_type": "code",
    "id": "lIwa6cOqvcTs",
    "outputId": "9ab23b6b-f4ce-4597-ec6c-88c3f1d29ff8"
   },
   "outputs": [
    {
     "name": "stdout",
     "output_type": "stream",
     "text": [
      "ЮгЭкспоКредитМосАлмазНефть\n"
     ]
    }
   ],
   "source": [
    "# генератор названий компаний\n",
    "\n",
    "import random\n",
    "\n",
    "names = [\"пром\",\"агро\",\"торг\",\"урал\",\"север\",\"юг\",\"техно\",\n",
    "\"экспо\",\"метал\",\"нефть\",\"сельхоз\",\"фарм\",\"строй\",\n",
    "\"кредит\",\"алмаз\",\"-девелопмент\",\"развитие\",\"мос\",\n",
    "\"рос\",\"кубань\",\"сибирь\",\"восток\",\"нано\",\"софт\",\n",
    "\"микро\",\"онлайн\",\"инвест\",\"текстиль\",\"цемент\"]\n",
    "\n",
    "# Ваш код ниже\n",
    "def generator ():\n",
    "    part = random.choice(names) #Выбираем случайный элемент названия.\n",
    "    part = part.capitalize() #Делаем первую букву в нём заглавной.\n",
    "    return (part)\n",
    "name=''\n",
    "i=1\n",
    "while i <= 6:\n",
    "    name = name+generator()\n",
    "    i=i+1\n",
    "print(name)"
   ]
  },
  {
   "cell_type": "markdown",
   "metadata": {},
   "source": [
    "**Задача 2.** Генератор паролей\n",
    "\n",
    "Пароли, получаемые в результате, должны удовлетворять следующим условиям: \n",
    "     - в пароле есть 3 заглавные буквы (любые, в любом месте пароля)\n",
    "     - в пароле есть 4 цифры (любые, в любом месте)\n",
    "     - оставшиеся символы пароля - строчные латинские буквы\n",
    "     \n",
    "Создайте функцию, которая генерирует пароли, пользователь задает число символов в пароле (как аргумент функции)"
   ]
  },
  {
   "cell_type": "code",
   "execution_count": 97,
   "metadata": {
    "colab": {},
    "colab_type": "code",
    "id": "Mm3FYaIJ99GJ"
   },
   "outputs": [
    {
     "name": "stdout",
     "output_type": "stream",
     "text": [
      "Введите количество символов (не менее 7): 9\n",
      "4ye4X99FC\n"
     ]
    }
   ],
   "source": [
    "import random\n",
    "import string\n",
    "letter_cap = list(string.ascii_uppercase) #Задаем список из заглавных букв.\n",
    "letter_small = list(string.ascii_lowercase) #Задаем список из строчных букв.\n",
    "number = ['0','1', '2', '3', '4', '5', '6', '7', '8', '9']\n",
    "def cap_letter ():\n",
    "    symbol = random.choice(letter_cap).upper() #Случайный выбор заглавной буквы.\n",
    "    return (symbol)\n",
    "def small_letter ():\n",
    "    symbol = random.choice(letter_small) #Случайный выбор строчной буквы.\n",
    "    return (symbol)\n",
    "def numb ():\n",
    "    symbol = random.choice(number) #Случайный выбор цифры буквы.\n",
    "    return (symbol)\n",
    "symbols = int(input('Введите количество символов (не менее 7): '))\n",
    "if symbols < 7:\n",
    "    print (\"Слишком мало символов!\")\n",
    "else:\n",
    "    list_symbols=[] #Создаем пустой список, куда далее добавляем символы для пароля.\n",
    "    i=1\n",
    "    while  i <= 3:    \n",
    "        list_symbols.append(cap_letter()) #Сначала добавляем три заглавные буквы.\n",
    "        i=i+1\n",
    "    i=1\n",
    "    while  i <= 4:\n",
    "        list_symbols.append(numb()) #Затем добавляем четыре цифры буквы.\n",
    "        i=i+1\n",
    "    i=1\n",
    "    while i <= symbols - 7:\n",
    "        list_symbols.append(small_letter ()) #Добавлем оставшиеся строчные буквы.\n",
    "        i=i+1\n",
    "    random.shuffle(list_symbols) #Перемешиваем список.\n",
    "    parol = \"\".join(list_symbols) #Превращаем список в строку и получаем пароль.\n",
    "    print(parol)\n"
   ]
  },
  {
   "cell_type": "code",
   "execution_count": null,
   "metadata": {},
   "outputs": [],
   "source": []
  }
 ],
 "metadata": {
  "kernelspec": {
   "display_name": "Python 3 (ipykernel)",
   "language": "python",
   "name": "python3"
  },
  "language_info": {
   "codemirror_mode": {
    "name": "ipython",
    "version": 3
   },
   "file_extension": ".py",
   "mimetype": "text/x-python",
   "name": "python",
   "nbconvert_exporter": "python",
   "pygments_lexer": "ipython3",
   "version": "3.10.0"
  }
 },
 "nbformat": 4,
 "nbformat_minor": 4
}
